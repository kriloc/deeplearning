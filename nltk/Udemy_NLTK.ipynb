{
 "cells": [
  {
   "cell_type": "markdown",
   "metadata": {},
   "source": [
    "# Udemy Course\n",
    "## From 0 to 1: Machine Learning, NLP & Python-Cut to the"
   ]
  },
  {
   "cell_type": "code",
   "execution_count": 1,
   "metadata": {
    "collapsed": true
   },
   "outputs": [],
   "source": [
    "%matplotlib inline\n",
    "import matplotlib.pyplot as plt"
   ]
  },
  {
   "cell_type": "code",
   "execution_count": 2,
   "metadata": {},
   "outputs": [
    {
     "name": "stdout",
     "output_type": "stream",
     "text": [
      "*** Introductory Examples for the NLTK Book ***\n",
      "Loading text1, ..., text9 and sent1, ..., sent9\n",
      "Type the name of the text or sentence to view it.\n",
      "Type: 'texts()' or 'sents()' to list the materials.\n",
      "text1: Moby Dick by Herman Melville 1851\n",
      "text2: Sense and Sensibility by Jane Austen 1811\n",
      "text3: The Book of Genesis\n",
      "text4: Inaugural Address Corpus\n",
      "text5: Chat Corpus\n",
      "text6: Monty Python and the Holy Grail\n",
      "text7: Wall Street Journal\n",
      "text8: Personals Corpus\n",
      "text9: The Man Who Was Thursday by G . K . Chesterton 1908\n"
     ]
    }
   ],
   "source": [
    "import nltk\n",
    "# To start, we need some text to play with. NLTK has many corpora and resources for you to explore natural language. \n",
    "# A one-off run of nltk.download() will get you all the resources in one go. Once you've done that you should have \n",
    "# a repository of interesting texts including stuff like Moby Dick and an Inaugural Address Corpus\n",
    "# nltk.download()\n",
    "from nltk.book import *"
   ]
  },
  {
   "cell_type": "code",
   "execution_count": 3,
   "metadata": {},
   "outputs": [
    {
     "name": "stdout",
     "output_type": "stream",
     "text": [
      "Displaying 11 of 11 matches:\n",
      "ong the former , one was of a most monstrous size . ... This came towards us , \n",
      "ON OF THE PSALMS . \" Touching that monstrous bulk of the whale or ork we have r\n",
      "ll over with a heathenish array of monstrous clubs and spears . Some were thick\n",
      "d as you gazed , and wondered what monstrous cannibal and savage could ever hav\n",
      "that has survived the flood ; most monstrous and most mountainous ! That Himmal\n",
      "they might scout at Moby Dick as a monstrous fable , or still worse and more de\n",
      "th of Radney .'\" CHAPTER 55 Of the Monstrous Pictures of Whales . I shall ere l\n",
      "ing Scenes . In connexion with the monstrous pictures of whales , I am strongly\n",
      "ere to enter upon those still more monstrous stories of them which are to be fo\n",
      "ght have been rummaged out of this monstrous cabinet there is no telling . But \n",
      "of Whale - Bones ; for Whales of a monstrous size are oftentimes cast up dead u\n"
     ]
    }
   ],
   "source": [
    "# These texts have now been loaded and you can refer to them by their names. These are objects of type 'Text' and they have a\n",
    "# bunch of cool methods to explore the text \n",
    "\n",
    "# concordance will print all the occurrences of a word along with some context. Let's explore two texts - Moby Dick and \n",
    "# Sense and Sensibility. As expected, word usage and language in both these books are pretty different :) \n",
    "\n",
    "text1.concordance(\"monstrous\")"
   ]
  },
  {
   "cell_type": "code",
   "execution_count": 4,
   "metadata": {},
   "outputs": [
    {
     "name": "stdout",
     "output_type": "stream",
     "text": [
      "Displaying 11 of 11 matches:\n",
      ". \" Now , Palmer , you shall see a monstrous pretty girl .\" He immediately went\n",
      "your sister is to marry him . I am monstrous glad of it , for then I shall have\n",
      "ou may tell your sister . She is a monstrous lucky girl to get him , upon my ho\n",
      "k how you will like them . Lucy is monstrous pretty , and so good humoured and \n",
      " Jennings , \" I am sure I shall be monstrous glad of Miss Marianne ' s company \n",
      " usual noisy cheerfulness , \" I am monstrous glad to see you -- sorry I could n\n",
      "t however , as it turns out , I am monstrous glad there was never any thing in \n",
      "so scornfully ! for they say he is monstrous fond of her , as well he may . I s\n",
      "possible that she should .\" \" I am monstrous glad of it . Good gracious ! I hav\n",
      "thing of the kind . So then he was monstrous happy , and talked on some time ab\n",
      "e very genteel people . He makes a monstrous deal of money , and they keep thei\n"
     ]
    }
   ],
   "source": [
    "text2.concordance(\"monstrous\")"
   ]
  },
  {
   "cell_type": "markdown",
   "metadata": {},
   "source": [
    "## Examples from the nltk book - www.nltk.org"
   ]
  },
  {
   "cell_type": "code",
   "execution_count": 5,
   "metadata": {},
   "outputs": [
    {
     "name": "stdout",
     "output_type": "stream",
     "text": [
      "very exceedingly so heartily a great good amazingly as sweet\n",
      "remarkably extremely vast\n"
     ]
    }
   ],
   "source": [
    "# As you can see, Melville uses the word 'monstrous' in a different connotation than Austen. He uses it to indicate\n",
    "# size and things that are terrifying, Austen uses it in a positive connotation\n",
    "# Let's see what other words appear in the same context as monstrous\n",
    "text2.similar(\"monstrous\")"
   ]
  },
  {
   "cell_type": "code",
   "execution_count": 6,
   "metadata": {},
   "outputs": [
    {
     "name": "stdout",
     "output_type": "stream",
     "text": [
      "a_pretty is_pretty a_lucky am_glad be_glad\n"
     ]
    }
   ],
   "source": [
    "# Clearly Austen uses \"monstrous\" to represent positive emotions and to amplify those emotions. She seems to use it \n",
    "# interchangeably with \"very\"  \n",
    "text2.common_contexts([\"monstrous\",\"very\"])"
   ]
  },
  {
   "cell_type": "code",
   "execution_count": 7,
   "metadata": {},
   "outputs": [
    {
     "data": {
      "image/png": "[encoded data removed]",
      "text/plain": [
       "<matplotlib.figure.Figure at 0x10e553450>"
      ]
     },
     "metadata": {},
     "output_type": "display_data"
    }
   ],
   "source": [
    "# These are fun ways to explore the usage of natural language in different contexts or situations. Let's see how the \n",
    "# usage of certain words by Presidents has changed over the years. \n",
    "# (Do install matplotlib before you run the below line of code)\n",
    "text4.dispersion_plot([\"citizens\",\"democracy\",\"freedom\",\"duties\",\"America\"])"
   ]
  },
  {
   "cell_type": "code",
   "execution_count": 8,
   "metadata": {},
   "outputs": [
    {
     "data": {
      "image/png": "[encoded data removed]",
      "text/plain": [
       "<matplotlib.figure.Figure at 0x11940a7d0>"
      ]
     },
     "metadata": {},
     "output_type": "display_data"
    }
   ],
   "source": [
    "# Let's see what kind of emotions are expressed in Jane Austen's works vs Herman Melville's\n",
    "text2.dispersion_plot([\"happy\",\"sad\"])"
   ]
  },
  {
   "cell_type": "code",
   "execution_count": 9,
   "metadata": {},
   "outputs": [
    {
     "data": {
      "image/png": "[encoded data removed]",
      "text/plain": [
       "<matplotlib.figure.Figure at 0x11350dfd0>"
      ]
     },
     "metadata": {},
     "output_type": "display_data"
    }
   ],
   "source": [
    "text1.dispersion_plot([\"happy\",\"sad\"])"
   ]
  },
  {
   "cell_type": "code",
   "execution_count": 10,
   "metadata": {},
   "outputs": [
    {
     "name": "stdout",
     "output_type": "stream",
     "text": [
      "['Mary had a little lamb.', 'Her fleece was white as snow']\n"
     ]
    }
   ],
   "source": [
    "# Now let's get to some serious stuff. Often you want to extract features from \n",
    "# a text - these are attributes that will represent the text - words or sentences \n",
    "# How do we split a piece of text into constituent sentences/words? (these are called tokens)\n",
    "from nltk.tokenize import word_tokenize, sent_tokenize\n",
    "text=\"Mary had a little lamb. Her fleece was white as snow\"\n",
    "sents=sent_tokenize(text)\n",
    "print(sents)"
   ]
  },
  {
   "cell_type": "code",
   "execution_count": 11,
   "metadata": {},
   "outputs": [
    {
     "name": "stdout",
     "output_type": "stream",
     "text": [
      "[['Mary', 'had', 'a', 'little', 'lamb', '.'], ['Her', 'fleece', 'was', 'white', 'as', 'snow']]\n"
     ]
    }
   ],
   "source": [
    "words=[word_tokenize(sent) for sent in sents]\n",
    "print(words)"
   ]
  },
  {
   "cell_type": "code",
   "execution_count": 12,
   "metadata": {},
   "outputs": [
    {
     "name": "stdout",
     "output_type": "stream",
     "text": [
      "['Mary', 'little', 'lamb', 'Her', 'fleece', 'white', 'snow']\n"
     ]
    }
   ],
   "source": [
    "# Let's filter out stopwords (words that are very common like 'was', 'a', 'as etc)\n",
    "from nltk.corpus import stopwords \n",
    "from string import punctuation\n",
    "customStopWords=set(stopwords.words('english')+list(punctuation))\n",
    "#Notice how we made the stopwords a set\n",
    "\n",
    "wordsWOStopwords=[word for word in word_tokenize(text) if word not in customStopWords]\n",
    "print(wordsWOStopwords)"
   ]
  },
  {
   "cell_type": "code",
   "execution_count": 13,
   "metadata": {},
   "outputs": [
    {
     "name": "stdout",
     "output_type": "stream",
     "text": [
      "['mary', 'clos', 'on', 'clos', 'night', 'when', 'she', 'was', 'in', 'the', 'mood', 'to', 'clos', '.']\n"
     ]
    }
   ],
   "source": [
    "text2=\"Mary closed on closing night when she was in the mood to close.\"\n",
    "# 'close' appears in different morphological forms here, stemming will reduce all forms of the word 'close' to its root\n",
    "# NLTK has multiple stemmers based on different rules/algorithms. Stemming is also known as lemmatization. \n",
    "from nltk.stem.lancaster import LancasterStemmer\n",
    "st=LancasterStemmer()\n",
    "stemmedWords=[st.stem(word) for word in word_tokenize(text2)]\n",
    "print(stemmedWords)"
   ]
  },
  {
   "cell_type": "code",
   "execution_count": 14,
   "metadata": {},
   "outputs": [
    {
     "data": {
      "text/plain": [
       "[('Mary', 'NNP'),\n",
       " ('closed', 'VBD'),\n",
       " ('on', 'IN'),\n",
       " ('closing', 'NN'),\n",
       " ('night', 'NN'),\n",
       " ('when', 'WRB'),\n",
       " ('she', 'PRP'),\n",
       " ('was', 'VBD'),\n",
       " ('in', 'IN'),\n",
       " ('the', 'DT'),\n",
       " ('mood', 'NN'),\n",
       " ('to', 'TO'),\n",
       " ('close', 'VB'),\n",
       " ('.', '.')]"
      ]
     },
     "execution_count": 14,
     "metadata": {},
     "output_type": "execute_result"
    }
   ],
   "source": [
    "# NLTK has functionality to automatically tag words as nouns, verbs, conjunctions etc\n",
    "nltk.pos_tag(word_tokenize(text2))"
   ]
  },
  {
   "cell_type": "markdown",
   "metadata": {
    "collapsed": true
   },
   "source": [
    "### 講座 31 Python Drill : Autosummarize News Articles "
   ]
  },
  {
   "cell_type": "code",
   "execution_count": 1,
   "metadata": {
    "collapsed": true
   },
   "outputs": [],
   "source": [
    "from nltk.tokenize import sent_tokenize,word_tokenize\n",
    "from nltk.corpus import stopwords\n",
    "from collections import defaultdict\n",
    "from string import punctuation\n",
    "from heapq import nlargest\n",
    "\n",
    "# punctuation 標點"
   ]
  },
  {
   "cell_type": "code",
   "execution_count": 2,
   "metadata": {
    "collapsed": true
   },
   "outputs": [],
   "source": [
    "#  sent_tokenize: given a group of text, tokenize (split) it into sentences\n",
    "#  word_tokenize: given a group of text, tokenize (split) it into words\n",
    "\n",
    "class FrequencySummarizer:\n",
    "    # indentation changes - we are now inside the class definition\n",
    "    def __init__(self, min_cut=0.1, max_cut=0.9):\n",
    "        # The constructor named __init__\n",
    "        # THis function will be called each time an object of this class is \n",
    "        # instantiated\n",
    "        # btw, note how the special keyword 'self' is passed in as the first\n",
    "        # argument to each method (member function).\n",
    "        self._min_cut = min_cut\n",
    "        self._max_cut = max_cut \n",
    "        # Words that have a frequency term lower than min_cut \n",
    "        # or higer than max_cut will be ignored.\n",
    "        self._stopwords = set(stopwords.words('english') + list(punctuation))\n",
    "        # Punctuation symbols and stopwords (common words like 'an','the' etc) are ignored\n",
    "        #\n",
    "        # Here self._min_cut, self._max_cut and self._stopwords are all member variables\n",
    "        # i.e. each object (instance) of this class will have an independent version of these\n",
    "        # variables. \n",
    "        # Note how this function is used to set up the member variables to their appropriate values\n",
    "    # indentation changes - we are out of the constructor (member function, but we are still inside)\n",
    "    # the class.\n",
    "    # One important note: if you are used to programming in Java or C#: if you define a variable here\n",
    "    # i.e. outside a member function but inside the class - it becomes a STATIC member variable\n",
    "    # THis is an important difference from Java, C# (where all member variables would be defined here)\n",
    "    # and is a common gotcha to be avoided.\n",
    "\n",
    "    def _compute_frequencies(self, word_sent):\n",
    "        # next method (member function) which takes in self (the special keyword for this same object)\n",
    "        # as well as a list of sentences, and outputs a dictionary, where the keys are words, and\n",
    "        # values are the frequencies of those words in the set of sentences\n",
    "        freq = defaultdict(int)\n",
    "        # defaultdict, which we referred to above - is a class that inherits from dictionary,\n",
    "        # with one difference: Usually, a Python dictionary throws a KeyError if you try \n",
    "        # to get an item with a key that is not currently in the dictionary. \n",
    "        # The defaultdict in contrast will simply create any items that you try to access \n",
    "        # (provided of course they do not exist yet). THe 'int' passed in as argument tells\n",
    "        # the defaultdict object to create a default value of 0\n",
    "        for s in word_sent:\n",
    "        # indentation changes - we are inside the for loop, for each sentence\n",
    "          for word in s:\n",
    "            # indentation changes again - this is an inner for loop, once per each word_sent\n",
    "            # in that sentence\n",
    "            if word not in self._stopwords:\n",
    "                # if the word is in the member variable (dictionary) self._stopwords, then ignore it,\n",
    "                # else increment the frequency. Had the dictionary freq been a regular dictionary (not a \n",
    "                # defaultdict, we would have had to first check whether this word is in the dict\n",
    "                freq[word] += 1\n",
    "        # Done with the frequency calculation - now go through our frequency list and do 2 things\n",
    "        #   normalize the frequencies by dividing each by the highest frequency (this allows us to \n",
    "        #            always have frequencies between 0 and 1, which makes comparing them easy\n",
    "        #   filter out frequencies that are too high or too low. A trick that yields better results.\n",
    "        m = float(max(freq.values()))\n",
    "        # get the highest frequency of any word in the list of words\n",
    "        for w in freq.keys():\n",
    "            # indentation changes - we are inside the for loop\n",
    "            freq[w] = freq[w]/m\n",
    "            # divide each frequency by that max value, so it is now between 0 and 1\n",
    "            if freq[w] >= self._max_cut or freq[w] <= self._min_cut:\n",
    "                # indentation changes - we are inside the if statement - if we are here the word is either\n",
    "                # really common or really uncommon. In either case - delete it from our dictionary\n",
    "                del freq[w]\n",
    "                # remember that del can be used to remove a key-value pair from the dictionary\n",
    "        return freq\n",
    "        # return the frequency list\n",
    "\n",
    "    def summarize(self, text, n):\n",
    "        # next method (member function) which takes in self (the special keyword for this same object)\n",
    "        # as well as the raw text, and the number of sentences we wish the summary to contain. Return the \n",
    "        # summary\n",
    "        sents = sent_tokenize(text)\n",
    "        # split the text into sentences\n",
    "        assert n <= len(sents)\n",
    "        # assert is a way of making sure a condition holds true, else an exception is thrown. Used to do \n",
    "        # sanity checks like making sure the summary is shorter than the original article.\n",
    "        word_sent = [word_tokenize(s.lower()) for s in sents]\n",
    "        # This 1 sentence does a lot: it converts each sentence to lower-case, then \n",
    "        # splits each sentence into words, then takes all of those lists (1 per sentence)\n",
    "        # and mushes them into 1 big list\n",
    "        self._freq = self._compute_frequencies(word_sent)\n",
    "        # make a call to the method (member function) _compute_frequencies, and places that in\n",
    "        # the member variable _freq. \n",
    "        ranking = defaultdict(int)\n",
    "        # create an empty dictionary (of the superior defaultdict variety) to hold the rankings of the \n",
    "            # sentences. \n",
    "        for i,sent in enumerate(word_sent):\n",
    "            # Indentation changes - we are inside the for loop. Oh! and this is a different type of for loop\n",
    "            # A new built-in function, enumerate(), will make certain loops a bit clearer. enumerate(sequence), \n",
    "            # will return (0, thing[0]), (1, thing[1]), (2, thing[2]), and so forth.\n",
    "            # A common idiom to change every element of a list looks like this:\n",
    "            #  for i in range(len(L)):\n",
    "            #    item = L[i]\n",
    "            #    ... compute some result based on item ...\n",
    "            #    L[i] = result\n",
    "            # This can be rewritten using enumerate() as:\n",
    "            # for i, item in enumerate(L):\n",
    "            #    ... compute some result based on item ...\n",
    "            #    L[i] = result\n",
    "            for w in sent:\n",
    "                # for each word in this sentence\n",
    "                if w in self._freq:\n",
    "                    # if this is not a stopword (common word), add the frequency of that word \n",
    "                    # to the weightage assigned to that sentence \n",
    "                    ranking[i] += self._freq[w]\n",
    "        # OK - we are outside the for loop and now have rankings for all the sentences\n",
    "        sents_idx = nlargest(n, ranking, key=ranking.get)\n",
    "        # we want to return the first n sentences with highest ranking, use the nlargest function to do so\n",
    "        # this function needs to know how to get the list of values to rank, so give it a function - simply the \n",
    "        # get method of the dictionary\n",
    "        return [sents[j] for j in sents_idx]\n",
    "       # return a list with these values in a list\n",
    "# Indentation changes - we are done with our FrequencySummarizer class!"
   ]
  },
  {
   "cell_type": "code",
   "execution_count": 3,
   "metadata": {
    "collapsed": true
   },
   "outputs": [],
   "source": [
    "import urllib2\n",
    "from bs4 import BeautifulSoup"
   ]
  },
  {
   "cell_type": "code",
   "execution_count": 5,
   "metadata": {
    "collapsed": true
   },
   "outputs": [],
   "source": [
    "def get_only_text_washington_post_url(url):\n",
    "    # This function takes in a URL as an argument, and returns only the text of the article in that URL. \n",
    "    page = urllib2.urlopen(url).read().decode('utf8')\n",
    "    # download the URL\n",
    "    soup = BeautifulSoup(page)\n",
    "    # initialise a BeautifulSoup object with the text of that URL\n",
    "    text = ' '.join(map(lambda p: p.text, soup.find_all('article')))\n",
    "    # use this code to get everything in that text that lies between a pair of \n",
    "    # <article> and </article> tags. We do this because we know that the URLs we are currently\n",
    "    # interested in - those from the WashingtonPost have this nice property\n",
    "\n",
    "    # OK - we got everything between the <article> and </article> tags, but that everything\n",
    "    # includes a bunch of other stuff we don't want\n",
    "    # Now - repeat, but this time we will only take what lies between <p> and </p> tags\n",
    "    # these are HTML tags for \"paragraph\" i.e. this should give us the actual text of the article\n",
    "    soup2 = BeautifulSoup(text, \"lxml\")\n",
    "    if soup2.find_all('p')!=[]:\n",
    "        text = ' '.join(map(lambda p: p.text, soup2.find_all('p')))\n",
    "    # use this code to get everything in that text that lies between a pair of \n",
    "    # <p> and </p> tags. We do this because we know that the URLs we are currently\n",
    "    # interested in - those from the WashingtonPost have this nice property\n",
    "    return soup.title.text, text\n",
    "# Return a pair of values (article title, article body)\n",
    "# Btw note that BeautifulSoup return the title without our doing anything special - \n",
    "# this is why BeautifulSoup works so much better than say regular expressions at parsing HTML\n",
    "\n",
    "\n",
    "#####################################################################################\n",
    "# OK! Now lets give this code a spin\n",
    "#####################################################################################\n",
    "someUrl = \"https://www.washingtonpost.com/news/the-switch/wp/2015/08/06/why-kids-are-meeting-more-strangers-online-than-ever-before/\"\n",
    "# the article we would like to summarize\n",
    "textOfUrl = get_only_text_washington_post_url(someUrl)\n",
    "# get the title and text\n",
    "fs = FrequencySummarizer()\n",
    "# instantiate our FrequencySummarizer class and get an object of this class\n",
    "summary = fs.summarize(textOfUrl[1], 3)\n",
    "# get a summary of this article that is 3 sentences long"
   ]
  },
  {
   "cell_type": "code",
   "execution_count": 11,
   "metadata": {},
   "outputs": [
    {
     "data": {
      "text/plain": [
       "[u'\"The digital world has taken its place alongside school and friends\\' houses and extracurriculars as a place where teens go to make and strengthen friendships,\" said Amanda Lenhart, author of the report \"Teens, Technology & Friendships\" and an associate\\xa0director of research at Pew.',\n",
       " u'\"Young people are very aware that people have highly curated images and that text fights can quickly go out of control and they are trying to sort it all out,\" said Rosalind Wiseman, author of \"Queen Bees and Wannabes\" and speaker on youth issues.',\n",
       " u\"Nearly half of those surveyed say they've at least occasionally seen posts about events that they were invited to; and\\xa085 percent said they think social media users present a carefully crafted image of themselves online that may not be authentic.\"]"
      ]
     },
     "execution_count": 11,
     "metadata": {},
     "output_type": "execute_result"
    }
   ],
   "source": [
    "summary"
   ]
  },
  {
   "cell_type": "code",
   "execution_count": 8,
   "metadata": {
    "collapsed": true
   },
   "outputs": [],
   "source": [
    "# URL 可直接去www.washingtonpost.com 找一篇新的文章\n",
    "someUrl = \"https://www.washingtonpost.com/politics/blues-brothers-don-jr-and-eric-trump-gamble-on-mississippi-tourism/2017/10/22/e906c8f0-aacc-11e7-b3aa-c0e2e1d41e38_story.html?hpid=hp_hp-top-table-main_no-name%3Ahomepage%2Fstory&utm_term=.d49369529ad7\"\n",
    "textOfUrl = get_only_text_washington_post_url(someUrl)"
   ]
  },
  {
   "cell_type": "code",
   "execution_count": 9,
   "metadata": {},
   "outputs": [
    {
     "data": {
      "text/plain": [
       "(u'Blues brothers Don Jr. and Eric Trump gamble on Mississippi tourism - The Washington Post',\n",
       " u'CLEVELAND, MISS. \\u2014 Jake Brown crooned the Mississippi blues to a nearly all-black audience on the outskirts of town, his guitar filling the darkened club with pangs of heartbreak and regret.   Between numbers, the local singer paused and in a gravelly drawl, beseeched the crowd to be thankful. For God. For the Mississippi blues. And for Donald Trump\\u2019s hotel, being built on the other side of Cleveland. \\u201cHave you all been out west of Cleveland?\\u201d he queried his audience. \\u201cTo those that don\\u2019t know, get ready. Get ready, \\u2019cause the blues is on the way.\\u201d President Trump\\u2019s hotel company, the New York-based managers of luxury properties and golf courses around the globe, seems an unlikely presence in this struggling stretch of the Delta, where new businesses are hard to recruit and black residents are eight times more likely than whites to face unemployment.  But in June, the Trump Organization, now run by the president\\u2019s sons Donald Trump Jr. and Eric Trump, bestowed a singular distinction upon Cleveland, population 12,000, and two nearby towns. It announced it would debut two new hotel brands here, beginning with a four-star, 100-room Scion hotel originally designed to replicate an antebellum plantation.   A sign in downtown Cleveland, Miss., shows another hotel development in the area where the Trump family plans to open properties. The hope of the buildup is to lure tourists in search of blues music. (Lee Powell/The Washington Post)  In a partnership with local owners, the company said it would reopen two Comfort Inns and a Rodeway Inn after bringing them up to Trump standards and use the properties to launch its newest brand, known as \\u201cAmerican Idea.\\u201d  It is nearly unheard of for a national hotel company to debut hotel lines in one of America\\u2019s poorest corners, surrounded by cotton and soybean fields and lacking a commercial airport or even an easily accessed interstate.  But the plan offers the first glimpse into how Trump\\u2019s sons will steer the company while he is in the White House. The Trump Organization is planning dozens of locations \\u201cdesigned to work in every city U.S.A.,\\u201d said company spokeswoman Christine Da Silva. It\\u2019s the company\\u2019s first appeal to middle America, the core of Trump\\u2019s political base.   Expansion of the Trump brand ratchets up the ethical implications for the president, who maintains his financial stake in the company he founded. The expansion could involve partnerships, new investors and local government approvals posing potential conflicts of interest. The Scion project, for example, is already slated to receive city and county tax breaks over seven years.   The deals could test the country\\u2019s acceptance of a complex business divestiture that Trump announced earlier this year, in which he defers profits but maintains his financial stake in the Trump Organization. Ethics experts quickly criticized the divestiture, and a federal lawsuit alleges that it violates an obscure constitutional provision known as the emoluments clause.  The president\\u2019s explosive Twitter forays into racial issues \\u2014 like the violent white supremacist demonstrations in Charlottesville, and the NFL kneeling controversy \\u2014 also have begun to shade how Mississippi residents view the expansion. The Scion hotel is designed to take advantage of the Delta as a growing destination for blues enthusiasts, a plan that some black residents view as Trump\\u2019s effort to monetize the threadbare music invented by slaves in the Mississippi cotton fields.  \\u201cIt shows he really doesn\\u2019t have a conscience. It\\u2019s about money,\\u201d Rep. Bennie Thompson (D-Miss.), who is black and represents the area, said in a phone interview.    Jake Brown, a blues musician, in his shop in Cleveland, Miss. (Lee Powell/The Washington Post)  The president has said he does not defend white supremacy and his comments about the NFL were not about race.  Ellis Turnage, a black attorney and Democrat who has represented black residents of Cleveland in voting rights lawsuits, said he thinks acceptance of the Trump hotels will hinge on whether economic arguments prevail over political ones.  \\u201cPeople are looking for something that\\u2019s going to raise Mississippi up off the bottom,\\u201d he said.  Turnage said he does not have a single friend who admits to voting for Trump. But when it comes to the new hotels, he said, \\u201cI don\\u2019t see that as an issue. I mean, Cleveland needs hotels.\\u201d A \\u2018big thing\\u2019 for Mississippi Economic revival has long been challenging in Bolivar County, home to Cleveland, where 53.3 percent of children live in poverty, according to 2015 census data. Fifty nine percent of households make less than $35,000 a year, and the region has barely recovered from the recession and the closures of factories that once produced ceramic tiles and auto parts.  But the area has a selling point that the state of Mississippi has seized upon as a marketing slogan, now emblazoned on license plates and highway signs: \\u201cBirthplace of America\\u2019s Music.\\u201d Assorted museums and clubs along Highway 61, \\u201cthe Blues Highway,\\u201d tout the names of state natives and blues originators B.B. King, John Lee Hooker and others. Last year, the local economy got a $20 million jolt with the opening of a Grammy museum in Cleveland, the first outside of Los Angeles and just down the street from the Trumps\\u2019 Scion.  In its first 17 months, the Grammy museum attracted 55,000 visitors, beating expectations, and welcomed 8,000 students for educational programming. The museum attracts big names for its events, like a recent show on the front lawn featuring Grammy Award winners Bobby Rush, Charlie Musselwhite and Frayser Boy. Cleveland also boasts a hospital and a 3,300-student university, Delta State, home of the Delta Music Institute, which teaches the creative and business areas of music.   \\u201cI think the blues is beginning to play a lot bigger role in the economic development of this area,\\u201d Tricia Walker, who heads the institute, said. \\u201cJust like Nashville realized decades ago that country music was a great economic driver for their city, same thing with Mississippi and Bolivar County.\\u201d  A 2014 economic analysis stressed the need for more hotels to accommodate Delta State\\u2019s homecoming weekend, blues festivals and Grammy events. Trump\\u2019s company was not the only one interested in tapping into the market \\u2014 another firm plans to break ground later this year on a high-end hotel along the downtown strip.  Judson Thigpen, executive director of the Cleveland-Bolivar County Chamber of Commerce, said the city has only about 280 rooms, less than what was needed for a recent baseball tournament that forced visitors to search for rooms a half mile away. \\u201cThat\\u2019s money that we\\u2019re not getting in the town because we don\\u2019t have the capacity,\\u201d he said. Local entrepreneurs Dinesh and Suresh Chawla now run a successful chain of midrange hotels, which they took over from their father, an Indian immigrant. Thirty years ago, V.K. Chawla called New York magnate Donald Trump out of the blue in search of investors. He received no money but lots of advice.   \\u201cMr. Trump proceeded to explain to my father how to get the small-fry project off the ground,\\u201d Suresh Chawla said in June. \\u201cIt\\u2019s an incredible testimony to how he can listen to something and in just a few seconds dissect it and come to what needs to be done.\\u201d When his father was running for president, Donald Trump Jr. met the Chawla sons at a Republican fundraiser in Jackson, introduced by Gov. Phil Bryant.  Afterward, Suresh Chawla donated $50,000 to Republican candidates, including $27,700 to the Trump campaign. Eric Danziger, chief executive of Trump Hotels and an industry veteran, began considering the Cleveland project among a couple dozen nationwide for the company\\u2019s first \\xadScion. In June, the Chawlas joined Donald Trump Jr. and Eric Trump at Trump Tower to announce the Mississippi venture. The deal was pitched as a breakthrough for a state often ranked dead last as a place to work or go to school.   \\u201cThis is a big thing for Mississippi. We\\u2019re usually 50th in every list there is,\\u201d Suresh Chawla said at the announcement.  Since then, the press has not been kind, particularly a Bloomberg story associating the Mississippi projects with a failed development, Trump Farallon Estates at Cap Cana, in the Dominican Republic.  \\u201cWe are very hesitant to work with reporters at this point \\u2014 everything we say, explain, do \\u2014 is taken out of context,\\u201d Dinesh Chawla wrote in an email. \\u201cIt\\u2019s frustrating that we seem to be used as pawns in a game.\\u201d He and his brother declined further \\xadcomment. Construction on the Scion hotel paused late this summer as the Chawlas reconsidered the original plantation design, a decision they haven\\u2019t addressed publicly. They came up with a new plan that will incorporate more restaurants, a clubhouse and convention space, according to the Trump Organization. In mid-September windows and siding on the main building had been added, and furniture was being delivered, but construction hadn\\u2019t restarted. According to the Trump Organization, the American Idea brands will launch at the three older Chawla-owned mid-scale hotels in the area. Bolivar County Supervisor Donny Whitten said the hotels \\u201ca lot of times are running at 90 to 100 percent occupancy\\u201d because of crowded university and music events.  Two are Comfort Inns, in Cleveland and Clarksdale, on the side of the highway and surrounded by strip malls and gas stations. The third is a Rodeway Inn in Greenville, across the street from the Trop Casino and separated by a levee where local residents take power walks. The area nearby is pockmarked with empty and boarded-up buildings.  \\u201cI don\\u2019t support [Trump]. I wouldn\\u2019t go to his hotel unless I had to. But I don\\u2019t blame other people if they do,\\u201d said Shanna Ray, 31, a medical lab technician on a stop during her walk.  Prospects for success Skepticism remains that the hotels will succeed financially, particularly if blacks avoid them. Bolivar County is 64 percent black, and the railroad tracks that cut through the center of Cleveland, despite being out of use and mostly buried, still separate the more prosperous white areas from black neighborhoods. Thomas Morris Sr., a local pastor active in the black community, said he would advise people to stay elsewhere. \\u201cYour choice will depend on how principled you are,\\u201d he said. \\u201cI think if the Trumps\\u2019 bottom-line profits for a hotel in the Mississippi Delta are predicated on black people coming and spending money, I think they are in serious trouble,\\u201d said Rep. Thompson.  Some of the plans may yet get tripped up in the heated litigation and ethical controversies surrounding the Trump Organization. For instance, the Chawlas have repeatedly expressed interest in having music students from Delta State produce or perform shows at the hotel.  But attorneys general from Maryland and the District of Columbia have challenged Trump in one pending emoluments lawsuit, and some legal scholars say benefiting from a publicly funded university qualifies as a violation.  Don Allan Mitchell, chair of languages and literature at Delta State, calls the hotels \\u201cone of those opportunities that I\\u2019m not sure we could pass up but at the same time it does bring with it the political baggage.\\u201d He said he hoped the politics wouldn\\u2019t destroy something Cleveland needs. \\u201cWe\\u2019re enough of a community where we can have this civil conversation,\\u201d he said. \\u201cWe can agree to disagree without screaming at one another. Or getting on Twitter.\\u201d  Brown, the local bluesman, spends his days fixing car upholstery in a workshop that is a hodgepodge of instruments and dismantled car seats. He says he does not support Trump personally. His allegiance is to the music he and his band, Jake and the Pearl Street Jumpers, have played since the 1970s. \\u201cI feel good about [the hotel],\\u201d he said. \\u201cIt will bring a lot of attention to the blues.\\u201d  ')"
      ]
     },
     "execution_count": 9,
     "metadata": {},
     "output_type": "execute_result"
    }
   ],
   "source": [
    "textOfUrl\n",
    "\n",
    "# \\u2019 : ' , \\u2014: — , \\u201c: \" , \\u201d: \""
   ]
  },
  {
   "cell_type": "code",
   "execution_count": 2,
   "metadata": {},
   "outputs": [
    {
     "data": {
      "text/plain": [
       "'42-dddddd'"
      ]
     },
     "execution_count": 2,
     "metadata": {},
     "output_type": "execute_result"
    }
   ],
   "source": [
    "n = 42\n",
    "s = 'dddddd'\n",
    "'{}-{}'.format(n, s)"
   ]
  },
  {
   "cell_type": "code",
   "execution_count": 4,
   "metadata": {},
   "outputs": [
    {
     "data": {
      "text/plain": [
       "['!',\n",
       " '\"',\n",
       " '#',\n",
       " '$',\n",
       " '%',\n",
       " '&',\n",
       " \"'\",\n",
       " '(',\n",
       " ')',\n",
       " '*',\n",
       " '+',\n",
       " ',',\n",
       " '-',\n",
       " '.',\n",
       " '/',\n",
       " ':',\n",
       " ';',\n",
       " '<',\n",
       " '=',\n",
       " '>',\n",
       " '?',\n",
       " '@',\n",
       " '[',\n",
       " '\\\\',\n",
       " ']',\n",
       " '^',\n",
       " '_',\n",
       " '`',\n",
       " '{',\n",
       " '|',\n",
       " '}',\n",
       " '~']"
      ]
     },
     "execution_count": 4,
     "metadata": {},
     "output_type": "execute_result"
    }
   ],
   "source": [
    "from string import punctuation\n",
    "list(punctuation)"
   ]
  },
  {
   "cell_type": "code",
   "execution_count": null,
   "metadata": {
    "collapsed": true
   },
   "outputs": [],
   "source": []
  },
  {
   "cell_type": "code",
   "execution_count": null,
   "metadata": {
    "collapsed": true
   },
   "outputs": [],
   "source": []
  },
  {
   "cell_type": "code",
   "execution_count": null,
   "metadata": {
    "collapsed": true
   },
   "outputs": [],
   "source": []
  }
 ],
 "metadata": {
  "kernelspec": {
   "display_name": "Python 2",
   "language": "python",
   "name": "python2"
  },
  "language_info": {
   "codemirror_mode": {
    "name": "ipython",
    "version": 2
   },
   "file_extension": ".py",
   "mimetype": "text/x-python",
   "name": "python",
   "nbconvert_exporter": "python",
   "pygments_lexer": "ipython2",
   "version": "2.7.13"
  }
 },
 "nbformat": 4,
 "nbformat_minor": 1
}
