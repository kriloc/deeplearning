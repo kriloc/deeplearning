{
 "cells": [
  {
   "cell_type": "code",
   "execution_count": 20,
   "metadata": {
    "collapsed": true
   },
   "outputs": [],
   "source": [
    "from nltk.tokenize import sent_tokenize, word_tokenize\n",
    "from nltk.corpus import stopwords\n",
    "from collections import defaultdict\n",
    "from string import punctuation\n",
    "from heapq import nlargest"
   ]
  },
  {
   "cell_type": "code",
   "execution_count": 21,
   "metadata": {
    "collapsed": true
   },
   "outputs": [],
   "source": [
    "class FrequencySummarizer:\n",
    "    def __init__(self, min_cut=0.1, max_cut=0.9):\n",
    "        self._min_cut = min_cut\n",
    "        self._max_cut = max_cut\n",
    "        self._stopwords = set(stopwords.words('english') + list(punctuation))\n",
    "        \n",
    "    def _compute_frequencies(self, word_sent):\n",
    "        freq = defaultdict(int)\n",
    "        for sentence in word_sent:\n",
    "#             print sentence\n",
    "            for word in sentence:\n",
    "#                 print word\n",
    "                if word not in self._stopwords:\n",
    "                    freq[word] += 1\n",
    "        m = float(max(freq.values()))\n",
    "        \n",
    "        for w in freq.keys():\n",
    "            freq[w] = freq[w]/m\n",
    "            if freq[w] >= self._max_cut or freq[w] <= self._min_cut:\n",
    "                del freq[w]\n",
    "                \n",
    "        return freq\n",
    "    \n",
    "    def summarize(self, text, n):\n",
    "        sents = sent_tokenize(text)  # sent_tokenize 僅適用於英文\n",
    "        assert n <= len(sents)\n",
    "        word_sent = [word_tokenize(s.lower()) for s in sents]\n",
    "        self._freq = self._compute_frequencies(word_sent)\n",
    "        ranking = defaultdict(int)\n",
    "        for i,sent in enumerate(word_sent):\n",
    "            for w in sent:\n",
    "                for w in self._freq:\n",
    "#                     print self._freq[w]\n",
    "                    ranking[i] += self._freq[w]\n",
    "    \n",
    "        sent_idx = nlargest(n, ranking, key = ranking.get)\n",
    "        return [sents[j] for j in sent_idx]"
   ]
  },
  {
   "cell_type": "markdown",
   "metadata": {
    "collapsed": true
   },
   "source": [
    "##### class FrequencySummarizer1:\n",
    "    # indentation changes - we are now inside the class definition\n",
    "    def __init__(self, min_cut=0.1, max_cut=0.9):\n",
    "        # The constructor named __init__\n",
    "        # THis function will be called each time an object of this class is \n",
    "        # instantiated\n",
    "        # btw, note how the special keyword 'self' is passed in as the first\n",
    "        # argument to each method (member function).\n",
    "        self._min_cut = min_cut\n",
    "        self._max_cut = max_cut \n",
    "        # Words that have a frequency term lower than min_cut \n",
    "        # or higer than max_cut will be ignored.\n",
    "        self._stopwords = set(stopwords.words('english') + list(punctuation))\n",
    "        # Punctuation symbols and stopwords (common words like 'an','the' etc) are ignored\n",
    "        #\n",
    "        # Here self._min_cut, self._max_cut and self._stopwords are all member variables\n",
    "        # i.e. each object (instance) of this class will have an independent version of these\n",
    "        # variables. \n",
    "        # Note how this function is used to set up the member variables to their appropriate values\n",
    "    # indentation changes - we are out of the constructor (member function, but we are still inside)\n",
    "    # the class.\n",
    "    # One important note: if you are used to programming in Java or C#: if you define a variable here\n",
    "    # i.e. outside a member function but inside the class - it becomes a STATIC member variable\n",
    "    # THis is an important difference from Java, C# (where all member variables would be defined here)\n",
    "    # and is a common gotcha to be avoided.\n",
    "\n",
    "    def _compute_frequencies(self, word_sent):\n",
    "        # next method (member function) which takes in self (the special keyword for this same object)\n",
    "        # as well as a list of sentences, and outputs a dictionary, where the keys are words, and\n",
    "        # values are the frequencies of those words in the set of sentences\n",
    "        freq = defaultdict(int)\n",
    "        # defaultdict, which we referred to above - is a class that inherits from dictionary,\n",
    "        # with one difference: Usually, a Python dictionary throws a KeyError if you try \n",
    "        # to get an item with a key that is not currently in the dictionary. \n",
    "        # The defaultdict in contrast will simply create any items that you try to access \n",
    "        # (provided of course they do not exist yet). THe 'int' passed in as argument tells\n",
    "        # the defaultdict object to create a default value of 0\n",
    "        for s in word_sent:\n",
    "        # indentation changes - we are inside the for loop, for each sentence\n",
    "          for word in s:\n",
    "            # indentation changes again - this is an inner for loop, once per each word_sent\n",
    "            # in that sentence\n",
    "            if word not in self._stopwords:\n",
    "                # if the word is in the member variable (dictionary) self._stopwords, then ignore it,\n",
    "                # else increment the frequency. Had the dictionary freq been a regular dictionary (not a \n",
    "                # defaultdict, we would have had to first check whether this word is in the dict\n",
    "                freq[word] += 1\n",
    "        # Done with the frequency calculation - now go through our frequency list and do 2 things\n",
    "        #   normalize the frequencies by dividing each by the highest frequency (this allows us to \n",
    "        #            always have frequencies between 0 and 1, which makes comparing them easy\n",
    "        #   filter out frequencies that are too high or too low. A trick that yields better results.\n",
    "        m = float(max(freq.values()))\n",
    "        # get the highest frequency of any word in the list of words\n",
    "        for w in freq.keys():\n",
    "            # indentation changes - we are inside the for loop\n",
    "            freq[w] = freq[w]/m\n",
    "            # divide each frequency by that max value, so it is now between 0 and 1\n",
    "            if freq[w] >= self._max_cut or freq[w] <= self._min_cut:\n",
    "                # indentation changes - we are inside the if statement - if we are here the word is either\n",
    "                # really common or really uncommon. In either case - delete it from our dictionary\n",
    "                del freq[w]\n",
    "                # remember that del can be used to remove a key-value pair from the dictionary\n",
    "        return freq\n",
    "        # return the frequency list\n",
    "        "
   ]
  },
  {
   "cell_type": "code",
   "execution_count": 22,
   "metadata": {},
   "outputs": [
    {
     "data": {
      "text/plain": [
       "[u'Get ready, \\u2019cause the blues is on the way.\\u201d President Trump\\u2019s hotel company, the New York-based managers of luxury properties and golf courses around the globe, seems an unlikely presence in this struggling stretch of the Delta, where new businesses are hard to recruit and black residents are eight times more likely than whites to face unemployment.',\n",
       " u'(Lee Powell/The Washington Post)  In a partnership with local owners, the company said it would reopen two Comfort Inns and a Rodeway Inn after bringing them up to Trump standards and use the properties to launch its newest.',\n",
       " u'But in June, the Trump Organization, now run by the president\\u2019s sons Donald Trump Jr. and Eric Trump, bestowed a singular distinction upon Cleveland, population 12,000, and two nearby towns.',\n",
       " u'\\u2014 Jake Brown crooned the Mississippi blues to a nearly all-black audience on the outskirts of town, his guitar filling the darkened club with pangs of heartbreak and regret.',\n",
       " u'It announced it would debut two new hotel brands here, beginning with a four-star, 100-room Scion hotel originally designed to replicate an antebellum plantation.']"
      ]
     },
     "execution_count": 22,
     "metadata": {},
     "output_type": "execute_result"
    }
   ],
   "source": [
    "fs = FrequencySummarizer()\n",
    "fs.summarize(u'Blues brothers Don Jr. and Eric Trump gamble on Mississippi tourism - The Washington Post,CLEVELAND, MISS. \\u2014 Jake Brown crooned the Mississippi blues to a nearly all-black audience on the outskirts of town, his guitar filling the darkened club with pangs of heartbreak and regret.   Between numbers, the local singer paused and in a gravelly drawl, beseeched the crowd to be thankful. For God. For the Mississippi blues. And for Donald Trump\\u2019s hotel, being built on the other side of Cleveland. \\u201cHave you all been out west of Cleveland?\\u201d he queried his audience. \\u201cTo those that don\\u2019t know, get ready. Get ready, \\u2019cause the blues is on the way.\\u201d President Trump\\u2019s hotel company, the New York-based managers of luxury properties and golf courses around the globe, seems an unlikely presence in this struggling stretch of the Delta, where new businesses are hard to recruit and black residents are eight times more likely than whites to face unemployment.  But in June, the Trump Organization, now run by the president\\u2019s sons Donald Trump Jr. and Eric Trump, bestowed a singular distinction upon Cleveland, population 12,000, and two nearby towns. It announced it would debut two new hotel brands here, beginning with a four-star, 100-room Scion hotel originally designed to replicate an antebellum plantation.   A sign in downtown Cleveland, Miss., shows another hotel development in the area where the Trump family plans to open properties. The hope of the buildup is to lure tourists in search of blues music. (Lee Powell/The Washington Post)  In a partnership with local owners, the company said it would reopen two Comfort Inns and a Rodeway Inn after bringing them up to Trump standards and use the properties to launch its newest.', 5)\n",
    "# fs._compute_frequencies(u'Blues brothers Don Jr. and Eric Trump gamble on Mississippi tourism - The Washington Post,CLEVELAND, MISS. \\u2014 Jake Brown crooned the Mississippi blues to a nearly all-black audience on the outskirts of town, his guitar filling the darkened club with pangs of heartbreak and regret.   Between numbers, the local singer paused and in a gravelly drawl, beseeched the crowd to be thankful. For God. For the Mississippi blues. And for Donald Trump\\u2019s hotel, being built on the other side of Cleveland. \\u201cHave you all been out west of Cleveland?\\u201d he queried his audience. \\u201cTo those that don\\u2019t know, get ready. Get ready, \\u2019cause the blues is on the way.\\u201d President Trump\\u2019s hotel company, the New York-based managers of luxury properties and golf courses around the globe, seems an unlikely presence in this struggling stretch of the Delta, where new businesses are hard to recruit and black residents are eight times more likely than whites to face unemployment.  But in June, the Trump Organization, now run by the president\\u2019s sons Donald Trump Jr. and Eric Trump, bestowed a singular distinction upon Cleveland, population 12,000, and two nearby towns. It announced it would debut two new hotel brands here, beginning with a four-star, 100-room Scion hotel originally designed to replicate an antebellum plantation.   A sign in downtown Cleveland, Miss., shows another hotel development in the area where the Trump family plans to open properties. The hope of the buildup is to lure tourists in search of blues music. (Lee Powell/The Washington Post)  In a partnership with local owners, the company said it would reopen two Comfort Inns and a Rodeway Inn after bringing them up to Trump standards and use the properties to launch its newest.')"
   ]
  },
  {
   "cell_type": "code",
   "execution_count": 23,
   "metadata": {},
   "outputs": [
    {
     "name": "stdout",
     "output_type": "stream",
     "text": [
      "[]\n",
      "<built-in method viewvalues of collections.defaultdict object at 0x11479ccb0>\n"
     ]
    }
   ],
   "source": [
    "fs = FrequencySummarizer()\n",
    "\n",
    "fs._compute_frequencies(u'中文測試，中文文字寫會如何')\n",
    "print fs.summarize(u'中文測試，中文文字寫會如何. 你那隻到手 一定要先會拆裝一次. 了解結構, ＬＡＭＹ寫多之後.，覺得筆尖 有開，轉折時墨水粗細分明', 2)\n",
    "## 需要用 '.' 來分句子\n",
    "print fs._freq.viewvalues"
   ]
  },
  {
   "cell_type": "code",
   "execution_count": 24,
   "metadata": {
    "collapsed": true
   },
   "outputs": [],
   "source": [
    "# 擷取網頁\n",
    "\n",
    "import urllib2\n",
    "from bs4 import BeautifulSoup"
   ]
  },
  {
   "cell_type": "code",
   "execution_count": 25,
   "metadata": {
    "collapsed": true
   },
   "outputs": [],
   "source": [
    "def get_only_text(url):\n",
    "    page = urllib2.urlopen(url).read().decode('utf8')\n",
    "    soup = BeautifulSoup(page, 'lxml')\n",
    "    text = ' '.join(map(lambda p: p.text, soup.find_all('article')))\n",
    "    soup2 = BeautifulSoup(text, 'lxml')\n",
    "    \n",
    "    if soup2.find_all('p')!=[]:\n",
    "        text = ' '.join(map(lambda p: p.text, soup2.find_all('p')))\n",
    "    return soup.title.text, text"
   ]
  },
  {
   "cell_type": "code",
   "execution_count": 26,
   "metadata": {},
   "outputs": [
    {
     "data": {
      "text/plain": [
       "[u'\"The digital world has taken its place alongside school and friends\\' houses and extracurriculars as a place where teens go to make and strengthen friendships,\" said Amanda Lenhart, author of the report \"Teens, Technology & Friendships\" and an associate\\xa0director of research at Pew.',\n",
       " u'\"Young people are very aware that people have highly curated images and that text fights can quickly go out of control and they are trying to sort it all out,\" said Rosalind Wiseman, author of \"Queen Bees and Wannabes\" and speaker on youth issues.',\n",
       " u\"Nearly half of those surveyed say they've at least occasionally seen posts about events that they were invited to; and\\xa085 percent said they think social media users present a carefully crafted image of themselves online that may not be authentic.\"]"
      ]
     },
     "execution_count": 26,
     "metadata": {},
     "output_type": "execute_result"
    }
   ],
   "source": [
    "someUrl = \"https://www.washingtonpost.com/news/the-switch/wp/2015/08/06/why-kids-are-meeting-more-strangers-online-than-ever-before/\"\n",
    "# the article we would like to summarize\n",
    "textOfUrl = get_only_text(someUrl)\n",
    "# get the title and text\n",
    "fs = FrequencySummarizer()\n",
    "# instantiate our FrequencySummarizer class and get an object of this class\n",
    "summary = fs.summarize(textOfUrl[1], 3)\n",
    "# get a summary of this article that is 3 sentences long\n",
    "summary"
   ]
  },
  {
   "cell_type": "markdown",
   "metadata": {
    "collapsed": true
   },
   "source": [
    "### 講座34 : Put it to work : News Article Classification using K-Nearest Neighbors"
   ]
  },
  {
   "cell_type": "code",
   "execution_count": 27,
   "metadata": {
    "collapsed": true
   },
   "outputs": [],
   "source": [
    "# download and parse an article from its url\n",
    "def getWashPostText(url, token):\n",
    "    try:\n",
    "        page = urllib2.urlopen(url).read().decode('utf8')\n",
    "    except:\n",
    "        return (None, None)\n",
    "    \n",
    "    soup = BeautifulSoup(page, \"lxml\")\n",
    "    if soup is None:\n",
    "        return (None, None)\n",
    "    \n",
    "    text = \"\"\n",
    "    if soup.find_all(token) is not None:\n",
    "        text = ''.join(map(lambda p: p.text, soup.find_all(token)))\n",
    "        soup2 = BeautifulSoup(text, \"lxml\")\n",
    "        if soup2.find_all('p') is not None:\n",
    "            text = ''.join(map(lambda p: p.text, soup2.find_all('p')))\n",
    "            \n",
    "    return text, soup.title.text\n"
   ]
  },
  {
   "cell_type": "code",
   "execution_count": 28,
   "metadata": {},
   "outputs": [
    {
     "data": {
      "text/plain": [
       "(u'Multitask1021  The majority of teenagers don\\'t consider meeting strangers online a taboo, with six in 10 saying they have met\\xa0at least\\xa0one new friend on the Web. Teens are also texting and communicating through online games and social networks more frequently\\xa0than they are spending time together in person. And of those who\\xa0meet people online, one-third also followed up with an in-person meeting. These findings are part of a new in-depth\\xa0study from the Pew Research Center aimed at understanding how online interactions are shaping the social lives and identities of American teens. Broadly speaking, the research found that the line between the virtual and real worlds has almost completely blurred -- and that kids say they have deep and meaningful relationships with people online and in person. \"The digital world has taken its place alongside school and friends\\' houses and extracurriculars as a place where teens go to make and strengthen friendships,\" said Amanda Lenhart, author of the report \"Teens, Technology & Friendships\" and an associate\\xa0director of research at Pew. \"Like it or not, this is where our teens talk, plot, laugh and fight with some of the most important\\xa0people in their lives.\" The current\\xa0generation of digital natives, who hit adolescence just as the iPhone and Facebook took off in popularity, are charting new\\xa0territory. And while the implications of online social activity among teens is not yet clear, some parents and child development experts warn that the intensity of online interactions is presenting\\xa0new pressures for youth and their parents. Researchers note how teens worry about missing out on conversations on social media, focus with increasing intensity on their online appearance, and react to the amplifying effect of social media. One cruel remark, teens who took the Pew survey said, can feel devastating in front of a big audiences and anxiety abounds over pressure to maintain gleaming reputations. \"Young people are very aware that people have highly curated images and that text fights can quickly go out of control and they are trying to sort it all out,\" said Rosalind Wiseman, author of \"Queen Bees and Wannabes\" and speaker on youth issues. \"But adults have to respect that these are deep relationships that play out online, and we can\\'t dismiss them.\" The abundance of technology has fueled the jump in and complexity of online interactions. Three-quarters of teens have a smartphone. A majority\\xa0have a social media account and play some sort of online game. According to the survey of 1,060 teens ages 13 to 17, texting remains the most popular form of digital communication. More than half of\\xa0teens say they text friends every day, and three-quarters do at least every few days. Only 25 percent of teens say they are able to meet with friends in person outside of school hours every day. Even with their closest friends, teens are spending as much time at each other\\'s homes as they are on social networks or gaming platforms. And those digital spaces are far more popular than hanging out with friends at coffee shops or the mall, the survey shows. For boys, online gaming has become\\xa0the center of social activity, with 84 percent of teen males playing video games compared to 59 percent of girls. Boys are more frequently making new friends online with six in 10 saying they\\'ve befriended a stranger via games or other apps. For 40 percent of these boys, the first piece of information they share online is their gaming handle. For Chasion Adams, 17, gaming friends are as valuable as the friends he has made at his D.C. high school and in his neighborhood. When he gets home from school, he powers up his Playstation and for the next few hours he\\'ll play games such as \"Call of Duty\" against friends from around the world. There is constant banter, with a lot of smack talk and joking. \"It\\'s like we have the game in common which is cool and then we talk about everything else like what kind of music we like and what\\'s going on with school,\" he said. Over a few years, he\\'s grown to know much about their family and personal lives. Chasion even met one friend in person after they discovered they were only a one-hour drive apart. When he is offline, Adams communicates with his gamer friends on social media apps such as Kik, Twitter and Instagram. According to the Pew survey, 53 percent of teens say they feel more connected to people after they play games with them. And the vast majority of teens -- particularly boys -- say they feel relaxed and happy connecting\\xa0with people while playing games. Most teens also check in daily to social media\\xa0platforms such as Twitter and Facebook. Girls, more than boys, use these sites to stay connected with friends. Yet the feelings toward social media are more ambivalent. Nearly nine in 10 teens say they\\'ve witnessed people over-share information about themselves on social media. Nearly half of those surveyed say they\\'ve at least occasionally seen posts about events that they were invited to; and\\xa085 percent said they think social media users present a carefully crafted image of themselves online that may not be authentic. But the vast majority also say they social media allows them to stay better connected to friends\\' feelings and events in their lives. It can be particularly hard for younger teens who feel pressure to create images of themselves on social media just as they are grappling with their budding identities. When Chloe Becker first used Facebook, Snapchat and Instagram as a young teenager, she lacked confidence and was sometimes overwhelmed. One comment could invite a pile-on of replies - sometimes the remarks were harsh or hurtful. At times, total strangers reached out to her. But\\xa0she also discovered a benefit to\\xa0the social network interactions\\xa0-- she could carefully consider her responses and choose what she shared. It was in some ways easier than face-to-face interaction. \"Authenticity is a tricky thing on social media because I had friends who were very friendly on Facebook but not in person, Becker said. \"But when you are young what does it mean to be authentic? You are trying so many different things.\" Now, heading off to college in Austin and with much more confidence, the 18-year-old often meets new friends on Facebook. The aspiring computer engineer joined a page for hackathons and others interested in coding. Like Becker, many say their friendship are completely entwined online and off. On a recent sweltering\\xa0August evening, Jessie Kinney and Megan Oliver took refuge at Tysons Corner. The two, wearing matching neon yellow tank tops, have been friends since their fresman year at Yorktown High School in Arlington.\\xa0Immediately after they met, they friended each other on Facebook so their interactions have\\xa0always been half\\xa0in person and\\xa0half through\\xa0texting and social media. Even when Megan went to Greece for two weeks earlier in the summer, the two were in close daily contact. But another big life change could change the dynamic. They are heading off to different colleges. Jessie will go to West Virginia University. Megan will be attending High Point University in North Carolina. Meeting up at Tysons a few days before they separate, they said\\xa0they are confident they will stay in close contact. \"I\\'m sure we\\'ll be really busy,\" Jessie said. \"But I\\'ll see her on Facebook and Instagram.\"',\n",
       " u'Third of all teens who meet strangers online are meeting them in person, too - The Washington Post')"
      ]
     },
     "execution_count": 28,
     "metadata": {},
     "output_type": "execute_result"
    }
   ],
   "source": [
    "getText = getWashPostText(someUrl, 'article')\n",
    "getText"
   ]
  },
  {
   "cell_type": "code",
   "execution_count": 29,
   "metadata": {
    "collapsed": true
   },
   "outputs": [],
   "source": [
    "def getNYTText(url, token):\n",
    "    response = request.get(url)\n",
    "    soup = BeautifulSoup(response.content)\n",
    "    page = str(soup)\n",
    "    title = soup.find('title').text\n",
    "    mydivs = soup.findAll(\"p\",{\"class\":\"story-body-text story-content\"})\n",
    "    text = ''.join(map(lambda p:p.text, mydivs))\n",
    "    \n",
    "    return text, title"
   ]
  },
  {
   "cell_type": "code",
   "execution_count": 30,
   "metadata": {
    "collapsed": true
   },
   "outputs": [],
   "source": [
    "# THIS FUNCTION RETURNS A DICTIONARY\n",
    "# THE URLS AS KEYS AND THE CORRESPONDING ARTICLE T1TLE TEXT AS VALUES\n",
    "def scrapeSource(url, magicFrag='2015', scraperFunction=getNYTText, token='None'):  #magic frag 譯為魔法碎片？\n",
    "    urlBodies = {}\n",
    "    request = urllib2.Request(url)\n",
    "    response = urllib2.urlopen(request)\n",
    "    soup = BeautifulSoup(response)\n",
    "    \n",
    "    numErrors = 0\n",
    "    for a in soup.findAll('a'):\n",
    "        try:\n",
    "            url = a['href']\n",
    "            if((url not in urlBodies) and (magicFrag is not None and magicFrag in url) or (magicFrag is None)):\n",
    "                body = scraperFunction(url, token)\n",
    "        except:\n",
    "            numErrors += 1\n",
    "            \n",
    "    return urlBodies"
   ]
  },
  {
   "cell_type": "markdown",
   "metadata": {},
   "source": [
    "### set up the training dataset"
   ]
  },
  {
   "cell_type": "code",
   "execution_count": null,
   "metadata": {
    "collapsed": true
   },
   "outputs": [],
   "source": []
  },
  {
   "cell_type": "code",
   "execution_count": null,
   "metadata": {
    "collapsed": true
   },
   "outputs": [],
   "source": []
  },
  {
   "cell_type": "code",
   "execution_count": null,
   "metadata": {
    "collapsed": true
   },
   "outputs": [],
   "source": []
  },
  {
   "cell_type": "code",
   "execution_count": null,
   "metadata": {
    "collapsed": true
   },
   "outputs": [],
   "source": []
  },
  {
   "cell_type": "code",
   "execution_count": null,
   "metadata": {
    "collapsed": true
   },
   "outputs": [],
   "source": []
  },
  {
   "cell_type": "code",
   "execution_count": null,
   "metadata": {
    "collapsed": true
   },
   "outputs": [],
   "source": []
  }
 ],
 "metadata": {
  "kernelspec": {
   "display_name": "Python 2",
   "language": "python",
   "name": "python2"
  },
  "language_info": {
   "codemirror_mode": {
    "name": "ipython",
    "version": 2
   },
   "file_extension": ".py",
   "mimetype": "text/x-python",
   "name": "python",
   "nbconvert_exporter": "python",
   "pygments_lexer": "ipython2",
   "version": "2.7.13"
  }
 },
 "nbformat": 4,
 "nbformat_minor": 2
}
