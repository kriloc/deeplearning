{
 "cells": [
  {
   "cell_type": "code",
   "execution_count": 1,
   "metadata": {},
   "outputs": [],
   "source": [
    "from nltk.tokenize import sent_tokenize, word_tokenize\n",
    "from nltk.corpus import stopwords\n",
    "from collections import defaultdict\n",
    "from string import punctuation\n",
    "from heapq import nlargest"
   ]
  },
  {
   "cell_type": "code",
   "execution_count": 42,
   "metadata": {
    "collapsed": true
   },
   "outputs": [],
   "source": [
    "class FrequencySummarizer:\n",
    "    def __init__(self, min_cut=0.1, max_cut=0.9):\n",
    "        self._min_cut = min_cut\n",
    "        self._max_cut = max_cut\n",
    "        self._stopwords = set(stopwords.words('english') + list(punctuation))\n",
    "        \n",
    "    def _compute_frequencies(self, word_sent):\n",
    "        freq = defaultdict(int)\n",
    "        for sentence in word_sent:\n",
    "#             print sentence\n",
    "            for word in sentence:\n",
    "#                 print word\n",
    "                if word not in self._stopwords:\n",
    "                    freq[word] += 1\n",
    "        m = float(max(freq.values()))\n",
    "        \n",
    "        for w in freq.keys():\n",
    "            freq[w] = freq[w]/m\n",
    "            if freq[w] >= self._max_cut or freq[w] <= self._min_cut:\n",
    "                del freq[w]\n",
    "                \n",
    "        return freq\n",
    "    \n",
    "    def summarize(self, text, n):\n",
    "        sents = sent_tokenize(text)  # sent_tokenize 僅適用於英文\n",
    "        assert n <= len(sents)\n",
    "        word_sent = [word_tokenize(s.lower()) for s in sents]\n",
    "        self._freq = self._compute_frequencies(word_sent)\n",
    "        ranking = defaultdict(int)\n",
    "        for i,sent in enumerate(word_sent):\n",
    "            for w in sent:\n",
    "                for w in self._freq:\n",
    "#                     print self._freq[w]\n",
    "                    ranking[i] += self._freq[w]\n",
    "    \n",
    "        sent_idx = nlargest(n, ranking, key = ranking.get)\n",
    "        return [sents[j] for j in sent_idx]"
   ]
  },
  {
   "cell_type": "markdown",
   "metadata": {
    "collapsed": true
   },
   "source": [
    "##### class FrequencySummarizer1:\n",
    "    # indentation changes - we are now inside the class definition\n",
    "    def __init__(self, min_cut=0.1, max_cut=0.9):\n",
    "        # The constructor named __init__\n",
    "        # THis function will be called each time an object of this class is \n",
    "        # instantiated\n",
    "        # btw, note how the special keyword 'self' is passed in as the first\n",
    "        # argument to each method (member function).\n",
    "        self._min_cut = min_cut\n",
    "        self._max_cut = max_cut \n",
    "        # Words that have a frequency term lower than min_cut \n",
    "        # or higer than max_cut will be ignored.\n",
    "        self._stopwords = set(stopwords.words('english') + list(punctuation))\n",
    "        # Punctuation symbols and stopwords (common words like 'an','the' etc) are ignored\n",
    "        #\n",
    "        # Here self._min_cut, self._max_cut and self._stopwords are all member variables\n",
    "        # i.e. each object (instance) of this class will have an independent version of these\n",
    "        # variables. \n",
    "        # Note how this function is used to set up the member variables to their appropriate values\n",
    "    # indentation changes - we are out of the constructor (member function, but we are still inside)\n",
    "    # the class.\n",
    "    # One important note: if you are used to programming in Java or C#: if you define a variable here\n",
    "    # i.e. outside a member function but inside the class - it becomes a STATIC member variable\n",
    "    # THis is an important difference from Java, C# (where all member variables would be defined here)\n",
    "    # and is a common gotcha to be avoided.\n",
    "\n",
    "    def _compute_frequencies(self, word_sent):\n",
    "        # next method (member function) which takes in self (the special keyword for this same object)\n",
    "        # as well as a list of sentences, and outputs a dictionary, where the keys are words, and\n",
    "        # values are the frequencies of those words in the set of sentences\n",
    "        freq = defaultdict(int)\n",
    "        # defaultdict, which we referred to above - is a class that inherits from dictionary,\n",
    "        # with one difference: Usually, a Python dictionary throws a KeyError if you try \n",
    "        # to get an item with a key that is not currently in the dictionary. \n",
    "        # The defaultdict in contrast will simply create any items that you try to access \n",
    "        # (provided of course they do not exist yet). THe 'int' passed in as argument tells\n",
    "        # the defaultdict object to create a default value of 0\n",
    "        for s in word_sent:\n",
    "        # indentation changes - we are inside the for loop, for each sentence\n",
    "          for word in s:\n",
    "            # indentation changes again - this is an inner for loop, once per each word_sent\n",
    "            # in that sentence\n",
    "            if word not in self._stopwords:\n",
    "                # if the word is in the member variable (dictionary) self._stopwords, then ignore it,\n",
    "                # else increment the frequency. Had the dictionary freq been a regular dictionary (not a \n",
    "                # defaultdict, we would have had to first check whether this word is in the dict\n",
    "                freq[word] += 1\n",
    "        # Done with the frequency calculation - now go through our frequency list and do 2 things\n",
    "        #   normalize the frequencies by dividing each by the highest frequency (this allows us to \n",
    "        #            always have frequencies between 0 and 1, which makes comparing them easy\n",
    "        #   filter out frequencies that are too high or too low. A trick that yields better results.\n",
    "        m = float(max(freq.values()))\n",
    "        # get the highest frequency of any word in the list of words\n",
    "        for w in freq.keys():\n",
    "            # indentation changes - we are inside the for loop\n",
    "            freq[w] = freq[w]/m\n",
    "            # divide each frequency by that max value, so it is now between 0 and 1\n",
    "            if freq[w] >= self._max_cut or freq[w] <= self._min_cut:\n",
    "                # indentation changes - we are inside the if statement - if we are here the word is either\n",
    "                # really common or really uncommon. In either case - delete it from our dictionary\n",
    "                del freq[w]\n",
    "                # remember that del can be used to remove a key-value pair from the dictionary\n",
    "        return freq\n",
    "        # return the frequency list\n",
    "        "
   ]
  },
  {
   "cell_type": "code",
   "execution_count": 43,
   "metadata": {},
   "outputs": [
    {
     "data": {
      "text/plain": [
       "[u'Get ready, \\u2019cause the blues is on the way.\\u201d President Trump\\u2019s hotel company, the New York-based managers of luxury properties and golf courses around the globe, seems an unlikely presence in this struggling stretch of the Delta, where new businesses are hard to recruit and black residents are eight times more likely than whites to face unemployment.',\n",
       " u'(Lee Powell/The Washington Post)  In a partnership with local owners, the company said it would reopen two Comfort Inns and a Rodeway Inn after bringing them up to Trump standards and use the properties to launch its newest.',\n",
       " u'But in June, the Trump Organization, now run by the president\\u2019s sons Donald Trump Jr. and Eric Trump, bestowed a singular distinction upon Cleveland, population 12,000, and two nearby towns.',\n",
       " u'\\u2014 Jake Brown crooned the Mississippi blues to a nearly all-black audience on the outskirts of town, his guitar filling the darkened club with pangs of heartbreak and regret.',\n",
       " u'It announced it would debut two new hotel brands here, beginning with a four-star, 100-room Scion hotel originally designed to replicate an antebellum plantation.']"
      ]
     },
     "execution_count": 43,
     "metadata": {},
     "output_type": "execute_result"
    }
   ],
   "source": [
    "fs = FrequencySummarizer()\n",
    "fs.summarize(u'Blues brothers Don Jr. and Eric Trump gamble on Mississippi tourism - The Washington Post,CLEVELAND, MISS. \\u2014 Jake Brown crooned the Mississippi blues to a nearly all-black audience on the outskirts of town, his guitar filling the darkened club with pangs of heartbreak and regret.   Between numbers, the local singer paused and in a gravelly drawl, beseeched the crowd to be thankful. For God. For the Mississippi blues. And for Donald Trump\\u2019s hotel, being built on the other side of Cleveland. \\u201cHave you all been out west of Cleveland?\\u201d he queried his audience. \\u201cTo those that don\\u2019t know, get ready. Get ready, \\u2019cause the blues is on the way.\\u201d President Trump\\u2019s hotel company, the New York-based managers of luxury properties and golf courses around the globe, seems an unlikely presence in this struggling stretch of the Delta, where new businesses are hard to recruit and black residents are eight times more likely than whites to face unemployment.  But in June, the Trump Organization, now run by the president\\u2019s sons Donald Trump Jr. and Eric Trump, bestowed a singular distinction upon Cleveland, population 12,000, and two nearby towns. It announced it would debut two new hotel brands here, beginning with a four-star, 100-room Scion hotel originally designed to replicate an antebellum plantation.   A sign in downtown Cleveland, Miss., shows another hotel development in the area where the Trump family plans to open properties. The hope of the buildup is to lure tourists in search of blues music. (Lee Powell/The Washington Post)  In a partnership with local owners, the company said it would reopen two Comfort Inns and a Rodeway Inn after bringing them up to Trump standards and use the properties to launch its newest.', 5)\n",
    "# fs._compute_frequencies(u'Blues brothers Don Jr. and Eric Trump gamble on Mississippi tourism - The Washington Post,CLEVELAND, MISS. \\u2014 Jake Brown crooned the Mississippi blues to a nearly all-black audience on the outskirts of town, his guitar filling the darkened club with pangs of heartbreak and regret.   Between numbers, the local singer paused and in a gravelly drawl, beseeched the crowd to be thankful. For God. For the Mississippi blues. And for Donald Trump\\u2019s hotel, being built on the other side of Cleveland. \\u201cHave you all been out west of Cleveland?\\u201d he queried his audience. \\u201cTo those that don\\u2019t know, get ready. Get ready, \\u2019cause the blues is on the way.\\u201d President Trump\\u2019s hotel company, the New York-based managers of luxury properties and golf courses around the globe, seems an unlikely presence in this struggling stretch of the Delta, where new businesses are hard to recruit and black residents are eight times more likely than whites to face unemployment.  But in June, the Trump Organization, now run by the president\\u2019s sons Donald Trump Jr. and Eric Trump, bestowed a singular distinction upon Cleveland, population 12,000, and two nearby towns. It announced it would debut two new hotel brands here, beginning with a four-star, 100-room Scion hotel originally designed to replicate an antebellum plantation.   A sign in downtown Cleveland, Miss., shows another hotel development in the area where the Trump family plans to open properties. The hope of the buildup is to lure tourists in search of blues music. (Lee Powell/The Washington Post)  In a partnership with local owners, the company said it would reopen two Comfort Inns and a Rodeway Inn after bringing them up to Trump standards and use the properties to launch its newest.')"
   ]
  },
  {
   "cell_type": "code",
   "execution_count": 41,
   "metadata": {},
   "outputs": [
    {
     "name": "stdout",
     "output_type": "stream",
     "text": [
      "[[u'\\u4e2d\\u6587\\u6e2c\\u8a66\\uff0c\\u4e2d\\u6587\\u6587\\u5b57\\u5beb\\u6703\\u5982\\u4f55', u'.'], [u'\\u4f60\\u90a3\\u96bb\\u5230\\u624b', u'\\u4e00\\u5b9a\\u8981\\u5148\\u6703\\u62c6\\u88dd\\u4e00\\u6b21', u'.'], [u'\\u4e86\\u89e3\\u7d50\\u69cb', u',', u'\\uff4c\\uff41\\uff4d\\uff59\\u5beb\\u591a\\u4e4b\\u5f8c.\\uff0c\\u89ba\\u5f97\\u7b46\\u5c16', u'\\u6709\\u958b\\uff0c\\u8f49\\u6298\\u6642\\u58a8\\u6c34\\u7c97\\u7d30\\u5206\\u660e']]\n",
      "<built-in method viewvalues of collections.defaultdict object at 0x114c69ef0>\n"
     ]
    }
   ],
   "source": [
    "fs = FrequencySummarizer()\n",
    "\n",
    "fs._compute_frequencies(u'中文測試，中文文字寫會如何')\n",
    "print fs.summarize(u'中文測試，中文文字寫會如何. 你那隻到手 一定要先會拆裝一次. 了解結構, ＬＡＭＹ寫多之後.，覺得筆尖 有開，轉折時墨水粗細分明', 2)\n",
    "## 需要用 '.' 來分句子\n",
    "print fs._freq.viewvalues"
   ]
  },
  {
   "cell_type": "code",
   "execution_count": null,
   "metadata": {
    "collapsed": true
   },
   "outputs": [],
   "source": []
  },
  {
   "cell_type": "code",
   "execution_count": null,
   "metadata": {
    "collapsed": true
   },
   "outputs": [],
   "source": []
  },
  {
   "cell_type": "code",
   "execution_count": null,
   "metadata": {
    "collapsed": true
   },
   "outputs": [],
   "source": []
  },
  {
   "cell_type": "code",
   "execution_count": null,
   "metadata": {
    "collapsed": true
   },
   "outputs": [],
   "source": []
  },
  {
   "cell_type": "code",
   "execution_count": null,
   "metadata": {
    "collapsed": true
   },
   "outputs": [],
   "source": []
  },
  {
   "cell_type": "code",
   "execution_count": null,
   "metadata": {
    "collapsed": true
   },
   "outputs": [],
   "source": []
  },
  {
   "cell_type": "code",
   "execution_count": null,
   "metadata": {
    "collapsed": true
   },
   "outputs": [],
   "source": []
  },
  {
   "cell_type": "code",
   "execution_count": null,
   "metadata": {
    "collapsed": true
   },
   "outputs": [],
   "source": []
  }
 ],
 "metadata": {
  "kernelspec": {
   "display_name": "Python 2",
   "language": "python",
   "name": "python2"
  },
  "language_info": {
   "codemirror_mode": {
    "name": "ipython",
    "version": 2
   },
   "file_extension": ".py",
   "mimetype": "text/x-python",
   "name": "python",
   "nbconvert_exporter": "python",
   "pygments_lexer": "ipython2",
   "version": "2.7.13"
  }
 },
 "nbformat": 4,
 "nbformat_minor": 2
}
