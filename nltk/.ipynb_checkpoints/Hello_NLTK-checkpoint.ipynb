{
 "cells": [
  {
   "cell_type": "code",
   "execution_count": 1,
   "metadata": {
    "collapsed": true
   },
   "outputs": [],
   "source": [
    "%matplotlib inline\n",
    "from matplotlib.pylab import *"
   ]
  },
  {
   "cell_type": "code",
   "execution_count": 2,
   "metadata": {
    "collapsed": false
   },
   "outputs": [
    {
     "name": "stdout",
     "output_type": "stream",
     "text": [
      "48135\n"
     ]
    }
   ],
   "source": [
    "import urllib2\n",
    "response = urllib2.urlopen('http://python.org')\n",
    "html = response.read()\n",
    "print len(html)"
   ]
  },
  {
   "cell_type": "code",
   "execution_count": 3,
   "metadata": {
    "collapsed": false
   },
   "outputs": [
    {
     "name": "stdout",
     "output_type": "stream",
     "text": [
      "Totla no of tokens:2901\n",
      "['<!doctype', 'html>', '<!--[if', 'lt', 'IE', '7]>', '<html', 'class=\"no-js', 'ie6', 'lt-ie7', 'lt-ie8', 'lt-ie9\">', '<![endif]-->', '<!--[if', 'IE', '7]>', '<html', 'class=\"no-js', 'ie7', 'lt-ie8']\n"
     ]
    }
   ],
   "source": [
    "tokens = [tok for tok in html.split()]\n",
    "print \"Totla no of tokens:\" + str(len(tokens))\n",
    "print tokens[0:20]"
   ]
  },
  {
   "cell_type": "markdown",
   "metadata": {},
   "source": [
    "### use nltk"
   ]
  },
  {
   "cell_type": "code",
   "execution_count": 4,
   "metadata": {
    "collapsed": true
   },
   "outputs": [],
   "source": [
    "import nltk"
   ]
  },
  {
   "cell_type": "code",
   "execution_count": 5,
   "metadata": {
    "collapsed": false
   },
   "outputs": [
    {
     "name": "stdout",
     "output_type": "stream",
     "text": [
      "[u'Welcome', u'to', u'Python.org', u'{', u'\"@context\":', u'\"http://schema.org\",', u'\"@type\":', u'\"WebSite\",', u'\"url\":', u'\"https://www.python.org/\",', u'\"potentialAction\":', u'{', u'\"@type\":', u'\"SearchAction\",', u'\"target\":', u'\"https://www.python.org/search/?q={search_term_string}\",', u'\"query-input\":', u'\"required', u'name=search_term_string\"', u'}']\n"
     ]
    }
   ],
   "source": [
    "# clean = nltk.clean_html(html)\n",
    "# 新版 nltk 已經取消此函數\n",
    "from bs4 import BeautifulSoup\n",
    "soup = BeautifulSoup(html, \"lxml\")\n",
    "clean = soup.get_text()\n",
    "tokens = [tok for tok in clean.split()]\n",
    "print tokens[0:20]"
   ]
  },
  {
   "cell_type": "code",
   "execution_count": 6,
   "metadata": {
    "collapsed": false
   },
   "outputs": [
    {
     "name": "stdout",
     "output_type": "stream",
     "text": [
      "<FreqDist with 600 samples and 1105 outcomes>\n",
      "all:1\n",
      "code:4\n",
      "arguments,:2\n",
      "per:1\n",
      "ga:1\n",
      "Buildbot,:1\n",
      "appetite:1\n",
      "faster:1\n",
      "[];:1\n",
      "name=search_term_string\":1\n",
      "day.:1\n",
      "versions!:1\n",
      "Business:2\n",
      "Javascript:2\n",
      "s.parentNode.insertBefore(ga,:1\n",
      "languages:1\n",
      "0:1\n"
     ]
    },
    {
     "ename": "UnicodeEncodeError",
     "evalue": "'ascii' codec can't encode character u'\\xa9' in position 0: ordinal not in range(128)",
     "output_type": "error",
     "traceback": [
      "\u001b[0;31m---------------------------------------------------------------------------\u001b[0m",
      "\u001b[0;31mUnicodeEncodeError\u001b[0m                        Traceback (most recent call last)",
      "\u001b[0;32m<ipython-input-6-a7fb513ede36>\u001b[0m in \u001b[0;36m<module>\u001b[0;34m()\u001b[0m\n\u001b[1;32m      4\u001b[0m \u001b[0;34m\u001b[0m\u001b[0m\n\u001b[1;32m      5\u001b[0m \u001b[0;32mfor\u001b[0m \u001b[0mk\u001b[0m\u001b[0;34m,\u001b[0m\u001b[0mv\u001b[0m \u001b[0;32min\u001b[0m \u001b[0mfreq_dist_nltk\u001b[0m\u001b[0;34m.\u001b[0m\u001b[0mitems\u001b[0m\u001b[0;34m(\u001b[0m\u001b[0;34m)\u001b[0m\u001b[0;34m:\u001b[0m\u001b[0;34m\u001b[0m\u001b[0m\n\u001b[0;32m----> 6\u001b[0;31m     \u001b[0;32mprint\u001b[0m \u001b[0mstr\u001b[0m\u001b[0;34m(\u001b[0m\u001b[0mk\u001b[0m\u001b[0;34m)\u001b[0m\u001b[0;34m+\u001b[0m \u001b[0;34m':'\u001b[0m \u001b[0;34m+\u001b[0m \u001b[0mstr\u001b[0m\u001b[0;34m(\u001b[0m\u001b[0mv\u001b[0m\u001b[0;34m)\u001b[0m\u001b[0;34m\u001b[0m\u001b[0m\n\u001b[0m",
      "\u001b[0;31mUnicodeEncodeError\u001b[0m: 'ascii' codec can't encode character u'\\xa9' in position 0: ordinal not in range(128)"
     ]
    }
   ],
   "source": [
    "# 查看用詞頻率\n",
    "freq_dist_nltk = nltk.FreqDist(tokens)\n",
    "print freq_dist_nltk\n",
    "\n",
    "for k,v in freq_dist_nltk.items():\n",
    "    print str(k)+ ':' + str(v)"
   ]
  },
  {
   "cell_type": "code",
   "execution_count": 7,
   "metadata": {
    "collapsed": false
   },
   "outputs": [
    {
     "data": {
      "image/png": "[encoded data removed]",
      "text/plain": [
       "<matplotlib.figure.Figure at 0x10784a3d0>"
      ]
     },
     "metadata": {},
     "output_type": "display_data"
    }
   ],
   "source": [
    "freq_dist_nltk.plot(30, cumulative=False)"
   ]
  },
  {
   "cell_type": "code",
   "execution_count": null,
   "metadata": {
    "collapsed": false
   },
   "outputs": [],
   "source": []
  },
  {
   "cell_type": "code",
   "execution_count": null,
   "metadata": {
    "collapsed": false
   },
   "outputs": [],
   "source": []
  },
  {
   "cell_type": "code",
   "execution_count": null,
   "metadata": {
    "collapsed": false
   },
   "outputs": [],
   "source": []
  },
  {
   "cell_type": "code",
   "execution_count": null,
   "metadata": {
    "collapsed": true
   },
   "outputs": [],
   "source": []
  },
  {
   "cell_type": "code",
   "execution_count": null,
   "metadata": {
    "collapsed": true
   },
   "outputs": [],
   "source": []
  },
  {
   "cell_type": "code",
   "execution_count": null,
   "metadata": {
    "collapsed": true
   },
   "outputs": [],
   "source": []
  },
  {
   "cell_type": "code",
   "execution_count": null,
   "metadata": {
    "collapsed": true
   },
   "outputs": [],
   "source": []
  }
 ],
 "metadata": {
  "kernelspec": {
   "display_name": "Python 2",
   "language": "python",
   "name": "python2"
  },
  "language_info": {
   "codemirror_mode": {
    "name": "ipython",
    "version": 2
   },
   "file_extension": ".py",
   "mimetype": "text/x-python",
   "name": "python",
   "nbconvert_exporter": "python",
   "pygments_lexer": "ipython2",
   "version": "2.7.13"
  }
 },
 "nbformat": 4,
 "nbformat_minor": 0
}
